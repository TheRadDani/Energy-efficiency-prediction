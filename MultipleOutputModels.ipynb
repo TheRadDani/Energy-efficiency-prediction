{
  "nbformat": 4,
  "nbformat_minor": 0,
  "metadata": {
    "colab": {
      "provenance": [],
      "authorship_tag": "ABX9TyOp/uD4TC33LFie7eqt8DmC",
      "include_colab_link": true
    },
    "kernelspec": {
      "name": "python3",
      "display_name": "Python 3"
    },
    "language_info": {
      "name": "python"
    }
  },
  "cells": [
    {
      "cell_type": "markdown",
      "metadata": {
        "id": "view-in-github",
        "colab_type": "text"
      },
      "source": [
        "<a href=\"https://colab.research.google.com/github/TheRadDani/Energy-efficiency-prediction/blob/main/MultipleOutputModels.ipynb\" target=\"_parent\"><img src=\"https://colab.research.google.com/assets/colab-badge.svg\" alt=\"Open In Colab\"/></a>"
      ]
    },
    {
      "cell_type": "code",
      "source": [
        "try:\n",
        "  %tensorflow_version 2.x\n",
        "except Exception:\n",
        "  pass"
      ],
      "metadata": {
        "colab": {
          "base_uri": "https://localhost:8080/"
        },
        "id": "qAYih3rO2cY1",
        "outputId": "97d3a83c-19fc-45a1-d30e-b8ebb92e5a18"
      },
      "execution_count": 11,
      "outputs": [
        {
          "output_type": "stream",
          "name": "stdout",
          "text": [
            "Colab only includes TensorFlow 2.x; %tensorflow_version has no effect.\n"
          ]
        }
      ]
    },
    {
      "cell_type": "code",
      "source": [
        "import tensorflow as tf\n",
        "import numpy as np\n",
        "import matplotlib.pyplot as plt\n",
        "import pandas as pd\n",
        "from sklearn.model_selection import train_test_split\n",
        "from sklearn.preprocessing import StandardScaler\n",
        "from tensorflow.python.keras.utils.vis_utils import plot_model\n",
        "import pydot"
      ],
      "metadata": {
        "id": "k96qGWd32laU"
      },
      "execution_count": 19,
      "outputs": []
    },
    {
      "cell_type": "code",
      "source": [
        "def format_output(data):\n",
        "  y1 = data.pop('Y1')\n",
        "  y21 = np.array(y1)\n",
        "  y2 = data.pop('y2')\n",
        "  y2 = np.array(y2)\n",
        "  return y1,y2"
      ],
      "metadata": {
        "id": "PbHPGgZi3OFt"
      },
      "execution_count": 18,
      "outputs": []
    },
    {
      "cell_type": "code",
      "source": [
        "def plot_metrics(history,metric_name,title,ylim=5):\n",
        "  plt.title(title)\n",
        "  plt.ylim(0,ylim)\n",
        "  plt.plot(history.history[metric_name],color='blue',label=str(metric_name))\n",
        "  plt.plot(history.history['val_'+metric_name],color='orange',label='val_'+str(metric_name))\n",
        "  plt.show()"
      ],
      "metadata": {
        "id": "cnwxf-e-3zsG"
      },
      "execution_count": 20,
      "outputs": []
    },
    {
      "cell_type": "code",
      "source": [
        "URL = 'https://archive.ics.uci.edu/ml/machine-learning-databases/00242/ENB2012_data.xlsx'\n",
        "df = pd.read_excel(URL)"
      ],
      "metadata": {
        "id": "ffSL47rq4fhC"
      },
      "execution_count": 26,
      "outputs": []
    },
    {
      "cell_type": "code",
      "execution_count": 12,
      "metadata": {
        "id": "KflU-8KtvWQc"
      },
      "outputs": [],
      "source": [
        "def multiple_output_functional_model(train):\n",
        "  from tensorflow.keras.layers import Input,Dense\n",
        "  from tensorflow.keras.models import Model\n",
        "  input_layer = Input(shape=(len(train.columns),))\n",
        "  first_layer = Dense(units='128',activation='relu')(input_layer)\n",
        "  second_dense = Dense(units='128',activation='relu')(first_layer)\n",
        "\n",
        "  y1_output = Dense(units='1',name='y1_output')(second_dense)\n",
        "  third_dense = Dense(units='64',activation='relu')(second_dense)\n",
        "  y2_output = Dense(units='1',name='y2_output')(third_dense)\n",
        "  return Model(inputs=input_layer,outputs=[y1_output,y2_output])"
      ]
    },
    {
      "cell_type": "code",
      "source": [
        "model = multiple_output_functional_model(df)\n",
        "model.summary()"
      ],
      "metadata": {
        "colab": {
          "base_uri": "https://localhost:8080/"
        },
        "id": "ZMBtsLpbxxyi",
        "outputId": "6dec6ca7-09af-40bf-a01c-f52aa8ce9bc3"
      },
      "execution_count": 27,
      "outputs": [
        {
          "output_type": "stream",
          "name": "stdout",
          "text": [
            "Model: \"model_3\"\n",
            "__________________________________________________________________________________________________\n",
            " Layer (type)                   Output Shape         Param #     Connected to                     \n",
            "==================================================================================================\n",
            " input_5 (InputLayer)           [(None, 10)]         0           []                               \n",
            "                                                                                                  \n",
            " dense_9 (Dense)                (None, 128)          1408        ['input_5[0][0]']                \n",
            "                                                                                                  \n",
            " dense_10 (Dense)               (None, 128)          16512       ['dense_9[0][0]']                \n",
            "                                                                                                  \n",
            " dense_11 (Dense)               (None, 64)           8256        ['dense_10[0][0]']               \n",
            "                                                                                                  \n",
            " y1_output (Dense)              (None, 1)            129         ['dense_10[0][0]']               \n",
            "                                                                                                  \n",
            " y2_output (Dense)              (None, 1)            65          ['dense_11[0][0]']               \n",
            "                                                                                                  \n",
            "==================================================================================================\n",
            "Total params: 26,370\n",
            "Trainable params: 26,370\n",
            "Non-trainable params: 0\n",
            "__________________________________________________________________________________________________\n"
          ]
        }
      ]
    }
  ]
}